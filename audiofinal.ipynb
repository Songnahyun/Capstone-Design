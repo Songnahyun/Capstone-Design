{
  "nbformat": 4,
  "nbformat_minor": 0,
  "metadata": {
    "colab": {
      "name": "audiofinal.ipynb",
      "provenance": [],
      "collapsed_sections": [],
      "authorship_tag": "ABX9TyNN5VANKPOJqEtVK1HIlXct",
      "include_colab_link": true
    },
    "kernelspec": {
      "display_name": "Python 3",
      "name": "python3"
    },
    "language_info": {
      "name": "python"
    }
  },
  "cells": [
    {
      "cell_type": "markdown",
      "metadata": {
        "id": "view-in-github",
        "colab_type": "text"
      },
      "source": [
        "<a href=\"https://colab.research.google.com/github/Songnahyun/Capstone-Design/blob/main/audiofinal.ipynb\" target=\"_parent\"><img src=\"https://colab.research.google.com/assets/colab-badge.svg\" alt=\"Open In Colab\"/></a>"
      ]
    },
    {
      "cell_type": "code",
      "metadata": {
        "id": "gRBTBc6n6Omr"
      },
      "source": [
        "# Usual Libraries\n",
        "import pandas as pd\n",
        "import numpy as np\n",
        "import seaborn as sns\n",
        "import matplotlib.pyplot as plt\n",
        "import sklearn\n",
        "import os\n",
        "\n",
        "# Librosa (the mother of audio files)\n",
        "import librosa\n",
        "import librosa.display\n",
        "import IPython.display as ipd\n",
        "import warnings\n",
        "warnings.filterwarnings('ignore')"
      ],
      "execution_count": null,
      "outputs": []
    },
    {
      "cell_type": "code",
      "metadata": {
        "colab": {
          "base_uri": "https://localhost:8080/"
        },
        "id": "7QNjgP3Y6hrN",
        "outputId": "8aaf2302-4102-494a-c181-5dee805dcb82"
      },
      "source": [
        "from google.colab import drive\n",
        "drive.mount('/content/drive')"
      ],
      "execution_count": null,
      "outputs": [
        {
          "output_type": "stream",
          "name": "stdout",
          "text": [
            "Mounted at /content/drive\n"
          ]
        }
      ]
    },
    {
      "cell_type": "code",
      "metadata": {
        "id": "zEZ_ptPd6xcp"
      },
      "source": [
        "zero_crossings_mean=[]\n",
        "zero_crossings_var = []\n",
        "y_perc_mean=[] \n",
        "y_perc_var=[]\n",
        "y_harm_mean=[] \n",
        "y_harm_var=[]\n",
        "spectral_centroids_mean=[] \n",
        "spectral_centroids_var=[]\n",
        "spectral_rolloff_mean=[]\n",
        "spectral_rolloff_var=[]\n",
        "chromagram_mean=[]\n",
        "chromagram_var=[]\n",
        "mfcc_mean=[]\n",
        "mfcc_var=[]\n",
        "labels= []"
      ],
      "execution_count": null,
      "outputs": []
    },
    {
      "cell_type": "code",
      "metadata": {
        "id": "L8WFxtNr_4qZ"
      },
      "source": [
        "def AudioFeatures(music):\n",
        "    wav, sr = librosa.load(f'/content/drive/MyDrive/baby/웃음/{music}')\n",
        "\n",
        "    # Zero-crossing\n",
        "    zero_crossings = librosa.zero_crossings(wav, pad=False)\n",
        "    zero_crossings_mean.append(zero_crossings.mean())\n",
        "    zero_crossings_var.append(zero_crossings.var())\n",
        "\n",
        "    #Harmonics and Perceptrual\n",
        "    y_harm, y_perc = librosa.effects.hpss(wav)\n",
        "    y_harm_mean.append(y_harm.mean())\n",
        "    y_harm_var.append(y_harm.var())\n",
        "    y_perc_mean.append(y_perc.mean())\n",
        "    y_perc_var.append(y_perc.var())\n",
        "\n",
        "\n",
        "    #Spectral Centroid / Rolloff\n",
        "    spectral_centroids = librosa.feature.spectral_centroid(wav, sr=sr)[0]\n",
        "    spectral_rolloff = librosa.feature.spectral_rolloff(wav, sr=sr)[0]\n",
        "\n",
        "    spectral_centroids_mean.append(spectral_centroids.mean())\n",
        "    spectral_centroids_var.append(spectral_centroids.var())\n",
        "    spectral_rolloff_mean.append(spectral_rolloff.mean())\n",
        "    spectral_rolloff_var.append(spectral_rolloff.var())\n",
        "\n",
        "    #Mel-Frequency Cepstral Coefficients\n",
        "    mfccs = librosa.feature.mfcc(wav, sr=sr)\n",
        "    mfccs = sklearn.preprocessing.scale(mfccs, axis=1)\n",
        "    mfcc_mean.append(mfccs.mean())\n",
        "    mfcc_var.append(mfccs.var())\n",
        "\n",
        "    #Chroma Frequencies\n",
        "    hop_length = 5000\n",
        "    chromagram = librosa.feature.chroma_stft(wav, sr=sr, hop_length=hop_length)\n",
        "    chromagram_mean.append(chromagram.mean())\n",
        "    chromagram_var.append(chromagram.var())\n",
        "\n",
        "    #Label\n",
        "    labels.append('웃음')"
      ],
      "execution_count": null,
      "outputs": []
    },
    {
      "cell_type": "code",
      "metadata": {
        "id": "hCVFAkCfArA-"
      },
      "source": [
        "musics = list(os.listdir('/content/drive/MyDrive/baby/웃음'))\n",
        "for i in musics:\n",
        "    AudioFeatures(i)"
      ],
      "execution_count": null,
      "outputs": []
    },
    {
      "cell_type": "code",
      "metadata": {
        "id": "b0hkuJ6lAvdU"
      },
      "source": [
        "music_df = {\"zero_crossings_mean\": zero_crossings_mean,\"zero_crossings_var\": zero_crossings_var ,\"y_perc_mean\": y_perc_mean, \n",
        "         \"y_perc_var\": y_perc_var, \"y_harm_mean\":y_harm_mean,\"y_harm_var\" : y_harm_var,\"spectral_centroids_mean\" : spectral_centroids_mean,\n",
        "         \"spectral_centroids_var\" : spectral_centroids_var,\"spectral_rolloff_mean\" :spectral_rolloff_mean,\"spectral_rolloff_var\" : spectral_rolloff_var,\n",
        "         \"chromagram_mean\" :chromagram_mean, \"chromagram_var\" :chromagram_var ,\"mfcc_mean\" :mfcc_mean, \"mfcc_var\" : mfcc_var, \"labels\" : labels \n",
        "        }\n",
        "df = pd.DataFrame(music_df)"
      ],
      "execution_count": null,
      "outputs": []
    },
    {
      "cell_type": "code",
      "metadata": {
        "colab": {
          "base_uri": "https://localhost:8080/",
          "height": 617
        },
        "id": "O2lmlAhURfqh",
        "outputId": "d0010aff-822d-47af-a996-be19d1c7cb31"
      },
      "source": [
        "df"
      ],
      "execution_count": null,
      "outputs": [
        {
          "output_type": "execute_result",
          "data": {
            "text/html": [
              "<div>\n",
              "<style scoped>\n",
              "    .dataframe tbody tr th:only-of-type {\n",
              "        vertical-align: middle;\n",
              "    }\n",
              "\n",
              "    .dataframe tbody tr th {\n",
              "        vertical-align: top;\n",
              "    }\n",
              "\n",
              "    .dataframe thead th {\n",
              "        text-align: right;\n",
              "    }\n",
              "</style>\n",
              "<table border=\"1\" class=\"dataframe\">\n",
              "  <thead>\n",
              "    <tr style=\"text-align: right;\">\n",
              "      <th></th>\n",
              "      <th>zero_crossings_mean</th>\n",
              "      <th>zero_crossings_var</th>\n",
              "      <th>y_perc_mean</th>\n",
              "      <th>y_perc_var</th>\n",
              "      <th>y_harm_mean</th>\n",
              "      <th>y_harm_var</th>\n",
              "      <th>spectral_centroids_mean</th>\n",
              "      <th>spectral_centroids_var</th>\n",
              "      <th>spectral_rolloff_mean</th>\n",
              "      <th>spectral_rolloff_var</th>\n",
              "      <th>chromagram_mean</th>\n",
              "      <th>chromagram_var</th>\n",
              "      <th>mfcc_mean</th>\n",
              "      <th>mfcc_var</th>\n",
              "      <th>labels</th>\n",
              "    </tr>\n",
              "  </thead>\n",
              "  <tbody>\n",
              "    <tr>\n",
              "      <th>0</th>\n",
              "      <td>0.134099</td>\n",
              "      <td>0.116117</td>\n",
              "      <td>-1.564613e-05</td>\n",
              "      <td>0.002869</td>\n",
              "      <td>-1.835442e-04</td>\n",
              "      <td>0.005026</td>\n",
              "      <td>2612.334007</td>\n",
              "      <td>7.344494e+05</td>\n",
              "      <td>5223.890154</td>\n",
              "      <td>4.116898e+06</td>\n",
              "      <td>0.340510</td>\n",
              "      <td>0.113237</td>\n",
              "      <td>-2.492013e-09</td>\n",
              "      <td>1.0</td>\n",
              "      <td>배고픔</td>\n",
              "    </tr>\n",
              "    <tr>\n",
              "      <th>1</th>\n",
              "      <td>0.188170</td>\n",
              "      <td>0.152762</td>\n",
              "      <td>-1.188729e-07</td>\n",
              "      <td>0.000174</td>\n",
              "      <td>-1.491888e-05</td>\n",
              "      <td>0.000180</td>\n",
              "      <td>3231.706157</td>\n",
              "      <td>8.240858e+05</td>\n",
              "      <td>6502.501288</td>\n",
              "      <td>3.256921e+06</td>\n",
              "      <td>0.332817</td>\n",
              "      <td>0.107560</td>\n",
              "      <td>-8.283816e-10</td>\n",
              "      <td>1.0</td>\n",
              "      <td>배고픔</td>\n",
              "    </tr>\n",
              "    <tr>\n",
              "      <th>2</th>\n",
              "      <td>0.161389</td>\n",
              "      <td>0.135343</td>\n",
              "      <td>2.965975e-06</td>\n",
              "      <td>0.003134</td>\n",
              "      <td>3.226794e-07</td>\n",
              "      <td>0.002150</td>\n",
              "      <td>2423.508555</td>\n",
              "      <td>2.991891e+05</td>\n",
              "      <td>4100.770153</td>\n",
              "      <td>2.725039e+06</td>\n",
              "      <td>0.357014</td>\n",
              "      <td>0.102528</td>\n",
              "      <td>3.251162e-09</td>\n",
              "      <td>1.0</td>\n",
              "      <td>배고픔</td>\n",
              "    </tr>\n",
              "    <tr>\n",
              "      <th>3</th>\n",
              "      <td>0.146283</td>\n",
              "      <td>0.124884</td>\n",
              "      <td>-2.047325e-06</td>\n",
              "      <td>0.001807</td>\n",
              "      <td>-5.609354e-08</td>\n",
              "      <td>0.001487</td>\n",
              "      <td>2299.881586</td>\n",
              "      <td>2.358952e+05</td>\n",
              "      <td>3893.837919</td>\n",
              "      <td>1.455174e+06</td>\n",
              "      <td>0.337139</td>\n",
              "      <td>0.107211</td>\n",
              "      <td>-4.134426e-10</td>\n",
              "      <td>1.0</td>\n",
              "      <td>배고픔</td>\n",
              "    </tr>\n",
              "    <tr>\n",
              "      <th>4</th>\n",
              "      <td>0.099271</td>\n",
              "      <td>0.089416</td>\n",
              "      <td>-8.880363e-05</td>\n",
              "      <td>0.000396</td>\n",
              "      <td>-2.212612e-04</td>\n",
              "      <td>0.001270</td>\n",
              "      <td>1859.064359</td>\n",
              "      <td>5.046534e+05</td>\n",
              "      <td>3380.038499</td>\n",
              "      <td>3.162618e+06</td>\n",
              "      <td>0.265662</td>\n",
              "      <td>0.099599</td>\n",
              "      <td>1.467191e-09</td>\n",
              "      <td>1.0</td>\n",
              "      <td>배고픔</td>\n",
              "    </tr>\n",
              "    <tr>\n",
              "      <th>...</th>\n",
              "      <td>...</td>\n",
              "      <td>...</td>\n",
              "      <td>...</td>\n",
              "      <td>...</td>\n",
              "      <td>...</td>\n",
              "      <td>...</td>\n",
              "      <td>...</td>\n",
              "      <td>...</td>\n",
              "      <td>...</td>\n",
              "      <td>...</td>\n",
              "      <td>...</td>\n",
              "      <td>...</td>\n",
              "      <td>...</td>\n",
              "      <td>...</td>\n",
              "      <td>...</td>\n",
              "    </tr>\n",
              "    <tr>\n",
              "      <th>183</th>\n",
              "      <td>0.214333</td>\n",
              "      <td>0.168394</td>\n",
              "      <td>2.092527e-06</td>\n",
              "      <td>0.008663</td>\n",
              "      <td>3.098265e-07</td>\n",
              "      <td>0.008639</td>\n",
              "      <td>3572.258184</td>\n",
              "      <td>6.953015e+05</td>\n",
              "      <td>6923.443677</td>\n",
              "      <td>8.140047e+05</td>\n",
              "      <td>0.319706</td>\n",
              "      <td>0.096585</td>\n",
              "      <td>-1.723508e-09</td>\n",
              "      <td>1.0</td>\n",
              "      <td>웃음</td>\n",
              "    </tr>\n",
              "    <tr>\n",
              "      <th>184</th>\n",
              "      <td>0.154729</td>\n",
              "      <td>0.130788</td>\n",
              "      <td>2.658205e-05</td>\n",
              "      <td>0.000961</td>\n",
              "      <td>-3.297495e-07</td>\n",
              "      <td>0.000442</td>\n",
              "      <td>2970.014356</td>\n",
              "      <td>1.956704e+06</td>\n",
              "      <td>5109.777145</td>\n",
              "      <td>4.946576e+06</td>\n",
              "      <td>0.459420</td>\n",
              "      <td>0.114288</td>\n",
              "      <td>-5.113535e-09</td>\n",
              "      <td>1.0</td>\n",
              "      <td>웃음</td>\n",
              "    </tr>\n",
              "    <tr>\n",
              "      <th>185</th>\n",
              "      <td>0.228391</td>\n",
              "      <td>0.176229</td>\n",
              "      <td>1.608571e-06</td>\n",
              "      <td>0.001408</td>\n",
              "      <td>-1.231361e-06</td>\n",
              "      <td>0.000045</td>\n",
              "      <td>3973.284269</td>\n",
              "      <td>1.277734e+06</td>\n",
              "      <td>6919.478272</td>\n",
              "      <td>2.550976e+06</td>\n",
              "      <td>0.549129</td>\n",
              "      <td>0.113220</td>\n",
              "      <td>0.000000e+00</td>\n",
              "      <td>1.0</td>\n",
              "      <td>웃음</td>\n",
              "    </tr>\n",
              "    <tr>\n",
              "      <th>186</th>\n",
              "      <td>0.151982</td>\n",
              "      <td>0.128884</td>\n",
              "      <td>4.180886e-05</td>\n",
              "      <td>0.002259</td>\n",
              "      <td>2.511648e-07</td>\n",
              "      <td>0.000492</td>\n",
              "      <td>2547.620233</td>\n",
              "      <td>1.046435e+06</td>\n",
              "      <td>4598.009611</td>\n",
              "      <td>2.694087e+06</td>\n",
              "      <td>0.391782</td>\n",
              "      <td>0.109242</td>\n",
              "      <td>-4.097419e-09</td>\n",
              "      <td>1.0</td>\n",
              "      <td>웃음</td>\n",
              "    </tr>\n",
              "    <tr>\n",
              "      <th>187</th>\n",
              "      <td>0.201483</td>\n",
              "      <td>0.160888</td>\n",
              "      <td>-7.648812e-06</td>\n",
              "      <td>0.004637</td>\n",
              "      <td>-7.128729e-07</td>\n",
              "      <td>0.002878</td>\n",
              "      <td>3094.678642</td>\n",
              "      <td>3.787974e+05</td>\n",
              "      <td>5508.700023</td>\n",
              "      <td>1.123432e+06</td>\n",
              "      <td>0.347372</td>\n",
              "      <td>0.102324</td>\n",
              "      <td>-2.103693e-09</td>\n",
              "      <td>1.0</td>\n",
              "      <td>웃음</td>\n",
              "    </tr>\n",
              "  </tbody>\n",
              "</table>\n",
              "<p>188 rows × 15 columns</p>\n",
              "</div>"
            ],
            "text/plain": [
              "     zero_crossings_mean  zero_crossings_var  ...  mfcc_var  labels\n",
              "0               0.134099            0.116117  ...       1.0     배고픔\n",
              "1               0.188170            0.152762  ...       1.0     배고픔\n",
              "2               0.161389            0.135343  ...       1.0     배고픔\n",
              "3               0.146283            0.124884  ...       1.0     배고픔\n",
              "4               0.099271            0.089416  ...       1.0     배고픔\n",
              "..                   ...                 ...  ...       ...     ...\n",
              "183             0.214333            0.168394  ...       1.0      웃음\n",
              "184             0.154729            0.130788  ...       1.0      웃음\n",
              "185             0.228391            0.176229  ...       1.0      웃음\n",
              "186             0.151982            0.128884  ...       1.0      웃음\n",
              "187             0.201483            0.160888  ...       1.0      웃음\n",
              "\n",
              "[188 rows x 15 columns]"
            ]
          },
          "metadata": {},
          "execution_count": 14
        }
      ]
    },
    {
      "cell_type": "code",
      "metadata": {
        "colab": {
          "base_uri": "https://localhost:8080/"
        },
        "id": "zWwjLNGcRhvZ",
        "outputId": "9dda5b80-338a-4aea-ca7f-1ec8518bfecd"
      },
      "source": [
        "df['labels'].unique()"
      ],
      "execution_count": null,
      "outputs": [
        {
          "output_type": "execute_result",
          "data": {
            "text/plain": [
              "array(['배고픔', '아픔', '졸림', '웃음'], dtype=object)"
            ]
          },
          "metadata": {},
          "execution_count": 15
        }
      ]
    },
    {
      "cell_type": "code",
      "metadata": {
        "id": "fB2ICyZcRlHk"
      },
      "source": [
        "from sklearn import preprocessing\n",
        "from sklearn.model_selection import train_test_split\n",
        "from sklearn.feature_selection import RFE\n",
        "from sklearn.naive_bayes import GaussianNB\n",
        "from sklearn.linear_model import SGDClassifier, LogisticRegression\n",
        "from sklearn.neighbors import KNeighborsClassifier\n",
        "from sklearn.tree import DecisionTreeClassifier\n",
        "from sklearn.ensemble import RandomForestClassifier\n",
        "from sklearn.svm import SVC\n",
        "from sklearn.neural_network import MLPClassifier\n",
        "from xgboost import XGBClassifier, XGBRFClassifier\n",
        "from xgboost import plot_tree, plot_importance"
      ],
      "execution_count": null,
      "outputs": []
    },
    {
      "cell_type": "code",
      "metadata": {
        "id": "1NpDPNL0oK09"
      },
      "source": [
        "y = df['labels']\n",
        "X = df.loc[:, df.columns != 'labels']"
      ],
      "execution_count": null,
      "outputs": []
    },
    {
      "cell_type": "code",
      "metadata": {
        "id": "Gkbh3_WxoOsF"
      },
      "source": [
        "X_train, X_test, y_train, y_test = train_test_split(X, y, test_size=0.25, random_state=42)"
      ],
      "execution_count": null,
      "outputs": []
    },
    {
      "cell_type": "code",
      "metadata": {
        "id": "J2qDdFmaoRJ8"
      },
      "source": [
        "cols = X.columns\n",
        "min_max_scaler = preprocessing.MinMaxScaler()\n",
        "np_scaled = min_max_scaler.fit_transform(X_train)\n",
        "\n",
        "# new data frame with the new scaled data. \n",
        "XScaled = pd.DataFrame(np_scaled, columns = cols)"
      ],
      "execution_count": null,
      "outputs": []
    },
    {
      "cell_type": "code",
      "metadata": {
        "colab": {
          "base_uri": "https://localhost:8080/"
        },
        "id": "jOdBsr08_tUy",
        "outputId": "5aaa6135-b980-4cc8-d492-2c6e1e187eb1"
      },
      "source": [
        "cols"
      ],
      "execution_count": null,
      "outputs": [
        {
          "output_type": "execute_result",
          "data": {
            "text/plain": [
              "Index(['zero_crossings_mean', 'zero_crossings_var', 'y_perc_mean',\n",
              "       'y_perc_var', 'y_harm_mean', 'y_harm_var', 'spectral_centroids_mean',\n",
              "       'spectral_centroids_var', 'spectral_rolloff_mean',\n",
              "       'spectral_rolloff_var', 'chromagram_mean', 'chromagram_var',\n",
              "       'mfcc_mean', 'mfcc_var'],\n",
              "      dtype='object')"
            ]
          },
          "metadata": {},
          "execution_count": 20
        }
      ]
    },
    {
      "cell_type": "code",
      "metadata": {
        "id": "cBhmv7QroThK"
      },
      "source": [
        "TestScaled = min_max_scaler.transform(X_test)\n",
        "TestScaled = pd.DataFrame(TestScaled, columns = cols)"
      ],
      "execution_count": null,
      "outputs": []
    },
    {
      "cell_type": "code",
      "metadata": {
        "id": "nou3c72_oU83"
      },
      "source": [
        "def model_assess(model,title = \"Default\"):\n",
        "    model.fit(XScaled, y_train)\n",
        "    preds = model.predict(TestScaled)\n",
        "    #print(confusion_matrix(y_test, preds))\n",
        "    print('Accuracy', title, ':', round(accuracy_score(y_test, preds), 5), '\\n')"
      ],
      "execution_count": null,
      "outputs": []
    },
    {
      "cell_type": "code",
      "metadata": {
        "id": "iYYL-B0GoWiL"
      },
      "source": [
        "from sklearn.metrics import confusion_matrix, accuracy_score, roc_auc_score, roc_curve"
      ],
      "execution_count": null,
      "outputs": []
    },
    {
      "cell_type": "code",
      "metadata": {
        "colab": {
          "base_uri": "https://localhost:8080/"
        },
        "id": "Q2Gwj2bzoY2I",
        "outputId": "978851af-ae98-4dfb-ef05-a40705081667"
      },
      "source": [
        "nb = GaussianNB()\n",
        "model_assess(nb, \"Naive Bayes\")\n",
        "\n",
        "# Stochastic Gradient Descent\n",
        "sgd = SGDClassifier(max_iter=5000, random_state=0)\n",
        "model_assess(sgd, \"Stochastic Gradient Descent\")\n",
        "\n",
        "# KNN\n",
        "knn = KNeighborsClassifier(n_neighbors=19)\n",
        "model_assess(knn, \"KNN\")\n",
        "\n",
        "# Decission trees\n",
        "tree = DecisionTreeClassifier()\n",
        "model_assess(tree, \"Decission trees\")\n",
        "\n",
        "# Random Forest\n",
        "rforest = RandomForestClassifier(n_estimators=1000, max_depth=10, random_state=0)\n",
        "model_assess(rforest, \"Random Forest\")\n",
        "\n",
        "# Support Vector Machine\n",
        "svm = SVC(decision_function_shape=\"ovo\")\n",
        "model_assess(svm, \"Support Vector Machine\")\n",
        "\n",
        "# Logistic Regression\n",
        "lg = LogisticRegression(random_state=0, solver='lbfgs', multi_class='multinomial')\n",
        "model_assess(lg, \"Logistic Regression\")\n",
        "\n",
        "# Neural Nets\n",
        "nn = MLPClassifier(solver='lbfgs', alpha=1e-5, hidden_layer_sizes=(5000, 10), random_state=1)\n",
        "model_assess(nn, \"Neural Nets\")\n",
        "\n",
        "# Cross Gradient Booster\n",
        "xgb = XGBClassifier(n_estimators=1000, learning_rate=0.05)\n",
        "model_assess(xgb, \"Cross Gradient Booster\")\n",
        "\n",
        "# Cross Gradient Booster (Random Forest)\n",
        "xgbrf = XGBRFClassifier(objective= 'multi:softmax')\n",
        "model_assess(xgbrf, \"Cross Gradient Booster (Random Forest)\")"
      ],
      "execution_count": null,
      "outputs": [
        {
          "name": "stdout",
          "output_type": "stream",
          "text": [
            "Accuracy Naive Bayes : 0.80851 \n",
            "\n",
            "Accuracy Stochastic Gradient Descent : 0.7234 \n",
            "\n",
            "Accuracy KNN : 0.74468 \n",
            "\n",
            "Accuracy Decission trees : 0.78723 \n",
            "\n",
            "Accuracy Random Forest : 0.85106 \n",
            "\n",
            "Accuracy Support Vector Machine : 0.85106 \n",
            "\n",
            "Accuracy Logistic Regression : 0.78723 \n",
            "\n",
            "Accuracy Neural Nets : 0.78723 \n",
            "\n",
            "Accuracy Cross Gradient Booster : 0.85106 \n",
            "\n",
            "Accuracy Cross Gradient Booster (Random Forest) : 0.80851 \n",
            "\n"
          ]
        }
      ]
    },
    {
      "cell_type": "code",
      "metadata": {
        "colab": {
          "base_uri": "https://localhost:8080/",
          "height": 204
        },
        "id": "4U23CLmRobcq",
        "outputId": "da4523a1-94a5-417d-c84d-eaef0c93c07b"
      },
      "source": [
        "pd.crosstab(y_test,rforest.predict(TestScaled))"
      ],
      "execution_count": null,
      "outputs": [
        {
          "data": {
            "text/html": [
              "<div>\n",
              "<style scoped>\n",
              "    .dataframe tbody tr th:only-of-type {\n",
              "        vertical-align: middle;\n",
              "    }\n",
              "\n",
              "    .dataframe tbody tr th {\n",
              "        vertical-align: top;\n",
              "    }\n",
              "\n",
              "    .dataframe thead th {\n",
              "        text-align: right;\n",
              "    }\n",
              "</style>\n",
              "<table border=\"1\" class=\"dataframe\">\n",
              "  <thead>\n",
              "    <tr style=\"text-align: right;\">\n",
              "      <th>col_0</th>\n",
              "      <th>배고픔</th>\n",
              "      <th>아픔</th>\n",
              "      <th>웃음</th>\n",
              "      <th>졸림</th>\n",
              "    </tr>\n",
              "    <tr>\n",
              "      <th>labels</th>\n",
              "      <th></th>\n",
              "      <th></th>\n",
              "      <th></th>\n",
              "      <th></th>\n",
              "    </tr>\n",
              "  </thead>\n",
              "  <tbody>\n",
              "    <tr>\n",
              "      <th>배고픔</th>\n",
              "      <td>9</td>\n",
              "      <td>0</td>\n",
              "      <td>1</td>\n",
              "      <td>0</td>\n",
              "    </tr>\n",
              "    <tr>\n",
              "      <th>아픔</th>\n",
              "      <td>0</td>\n",
              "      <td>8</td>\n",
              "      <td>2</td>\n",
              "      <td>0</td>\n",
              "    </tr>\n",
              "    <tr>\n",
              "      <th>웃음</th>\n",
              "      <td>1</td>\n",
              "      <td>0</td>\n",
              "      <td>11</td>\n",
              "      <td>0</td>\n",
              "    </tr>\n",
              "    <tr>\n",
              "      <th>졸림</th>\n",
              "      <td>0</td>\n",
              "      <td>0</td>\n",
              "      <td>3</td>\n",
              "      <td>12</td>\n",
              "    </tr>\n",
              "  </tbody>\n",
              "</table>\n",
              "</div>"
            ],
            "text/plain": [
              "col_0   배고픔  아픔  웃음  졸림\n",
              "labels                 \n",
              "배고픔       9   0   1   0\n",
              "아픔        0   8   2   0\n",
              "웃음        1   0  11   0\n",
              "졸림        0   0   3  12"
            ]
          },
          "execution_count": 24,
          "metadata": {},
          "output_type": "execute_result"
        }
      ]
    },
    {
      "cell_type": "code",
      "metadata": {
        "colab": {
          "base_uri": "https://localhost:8080/"
        },
        "id": "EUIwy18ooghL",
        "outputId": "2b9c9aee-b2a8-4791-ec70-f1e9e4b14dd2"
      },
      "source": [
        "best_score = 0.85106\n",
        "\n",
        "#임의의 gamma와 C를 지정해 반복문으로 돌려봄\n",
        "\n",
        "for gamma in [0.001,0.01,0.1,1,10,100]:\n",
        "  for C in [0.001,0.01,0.1,1,10,100]:\n",
        "    svm = SVC(gamma = gamma, C = C)\n",
        "    svm.fit(X_train, y_train)\n",
        "\n",
        "    test_score = svm.score(X_test, y_test)\n",
        "\n",
        "    if test_score > best_score:\n",
        "      best_score = test_score\n",
        "      best_prameter = {'gamma': gamma, 'C': C}\n",
        "      train_score = svm.score(X_train, y_train)\n",
        "\n",
        "print(\"Best score : {}\".format(np.round(best_score,3)))\n",
        "print(\"Parameters : {}\".format(best_prameter))"
      ],
      "execution_count": null,
      "outputs": [
        {
          "name": "stdout",
          "output_type": "stream",
          "text": [
            "Best score : 0.872\n",
            "Parameters : {'gamma': 0.001, 'C': 1}\n"
          ]
        }
      ]
    },
    {
      "cell_type": "code",
      "metadata": {
        "id": "FW1u9NZgG7ze"
      },
      "source": [
        "param_grid = {\n",
        "    'n_estimators': [100, 150, 200, 250],\n",
        "    'max_depth': [None, 6, 9, 12],\n",
        "    'min_samples_split': [0.01, 0.05, 0.1],\n",
        "    'max_features': ['auto', 'sqrt'],\n",
        "}\n",
        "\n",
        "estimator = RandomForestClassifier()"
      ],
      "execution_count": null,
      "outputs": []
    },
    {
      "cell_type": "code",
      "metadata": {
        "id": "73j4b4AhpbRR"
      },
      "source": [
        "from sklearn.model_selection import KFold\n",
        "\n",
        "kf = KFold(random_state=30,\n",
        "           n_splits=10,\n",
        "           shuffle=True,\n",
        "          )"
      ],
      "execution_count": null,
      "outputs": []
    },
    {
      "cell_type": "code",
      "metadata": {
        "colab": {
          "base_uri": "https://localhost:8080/"
        },
        "id": "REqA0ZB3pfkU",
        "outputId": "2b11a64d-6dc3-4c30-e92f-6c757ed04aa4"
      },
      "source": [
        "from sklearn.model_selection import GridSearchCV\n",
        "# define grid_search\n",
        "grid_search = GridSearchCV(estimator=estimator, \n",
        "                           param_grid=param_grid, \n",
        "                           cv=kf, \n",
        "                           n_jobs=-1, \n",
        "                           verbose=2\n",
        "                          )\n",
        "\n",
        "# fit with (x_train, y_train)\n",
        "grid_search.fit(X_train, y_train)"
      ],
      "execution_count": null,
      "outputs": [
        {
          "name": "stdout",
          "output_type": "stream",
          "text": [
            "Fitting 10 folds for each of 96 candidates, totalling 960 fits\n"
          ]
        },
        {
          "data": {
            "text/plain": [
              "GridSearchCV(cv=KFold(n_splits=10, random_state=30, shuffle=True),\n",
              "             estimator=RandomForestClassifier(), n_jobs=-1,\n",
              "             param_grid={'max_depth': [None, 6, 9, 12],\n",
              "                         'max_features': ['auto', 'sqrt'],\n",
              "                         'min_samples_split': [0.01, 0.05, 0.1],\n",
              "                         'n_estimators': [100, 150, 200, 250]},\n",
              "             verbose=2)"
            ]
          },
          "execution_count": 31,
          "metadata": {},
          "output_type": "execute_result"
        }
      ]
    },
    {
      "cell_type": "code",
      "metadata": {
        "colab": {
          "base_uri": "https://localhost:8080/"
        },
        "id": "f3mu0U20pjhN",
        "outputId": "f558de49-efea-4913-c98b-ff0de98d4085"
      },
      "source": [
        "grid_search.best_params_"
      ],
      "execution_count": null,
      "outputs": [
        {
          "data": {
            "text/plain": [
              "{'max_depth': 6,\n",
              " 'max_features': 'sqrt',\n",
              " 'min_samples_split': 0.05,\n",
              " 'n_estimators': 100}"
            ]
          },
          "execution_count": 32,
          "metadata": {},
          "output_type": "execute_result"
        }
      ]
    },
    {
      "cell_type": "code",
      "metadata": {
        "colab": {
          "base_uri": "https://localhost:8080/"
        },
        "id": "odXAC9xvqq6m",
        "outputId": "596f979d-a65f-4b3a-db97-11bdfc857677"
      },
      "source": [
        "rforest = RandomForestClassifier (max_depth= 6, \n",
        "                                  max_features= 'sqrt', \n",
        "                                  min_samples_split= 0.05, \n",
        "                                  n_estimators= 100)\n",
        "model_assess(rforest, \"Random Forest\")"
      ],
      "execution_count": null,
      "outputs": [
        {
          "name": "stdout",
          "output_type": "stream",
          "text": [
            "Accuracy Random Forest : 0.85106 \n",
            "\n"
          ]
        }
      ]
    },
    {
      "cell_type": "code",
      "metadata": {
        "id": "GR6X1zR41RIJ"
      },
      "source": [
        ""
      ],
      "execution_count": null,
      "outputs": []
    }
  ]
}